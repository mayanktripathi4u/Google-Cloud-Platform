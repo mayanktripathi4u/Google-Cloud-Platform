{
 "cells": [
  {
   "cell_type": "markdown",
   "metadata": {},
   "source": [
    "# Publish Message to Pub/Sub Topic.\n",
    "\n",
    "To create a Pub/Sub message that matches the given schema (text:STRING, billing_status:STRING, date:DATE, email:STRING), you need to construct a JSON-formatted message with fields corresponding to the schema. Here's an example of how the message could look:"
   ]
  },
  {
   "cell_type": "markdown",
   "metadata": {},
   "source": [
    "```json\n",
    "{\n",
    "  \"text\": \"Hello, Dataflow!\",\n",
    "  \"billing_status\": \"si\",\n",
    "  \"date\": \"2024-10-15\",\n",
    "  \"email\": \"example@example.com\"\n",
    "}\n",
    "```"
   ]
  },
  {
   "cell_type": "markdown",
   "metadata": {},
   "source": [
    "# Using Python"
   ]
  },
  {
   "cell_type": "code",
   "execution_count": null,
   "metadata": {},
   "outputs": [],
   "source": [
    "from google.cloud import pubsub_v1\n",
    "import json\n",
    "\n",
    "# Initialize the Pub/Sub client\n",
    "project_id = \"gcphde-prim-dev-data\"\n",
    "topic_id = \"projects/gcphde-prim-dev-data/topics/streaming_pubsub_topic\"\n",
    "publisher = pubsub_v1.PublisherClient()\n",
    "topic_path = publisher.topic_path(project_id, topic_id)\n",
    "\n",
    "# Create the message data\n",
    "message_data = {\n",
    "    \"text\": \"Hello, Dataflow!\",\n",
    "    \"billing_status\": \"si\",\n",
    "    \"date\": \"2024-10-15\",\n",
    "    \"email\": \"example@example.com\"\n",
    "}\n",
    "\n",
    "# Publish the message as a JSON string\n",
    "message_json = json.dumps(message_data)\n",
    "message_bytes = message_json.encode(\"utf-8\")\n",
    "future = publisher.publish(topic_path, data=message_bytes)\n",
    "\n",
    "# Wait for the message to be published\n",
    "print(f\"Published message ID: {future.result()}\")\n"
   ]
  }
 ],
 "metadata": {
  "language_info": {
   "name": "python"
  }
 },
 "nbformat": 4,
 "nbformat_minor": 2
}
