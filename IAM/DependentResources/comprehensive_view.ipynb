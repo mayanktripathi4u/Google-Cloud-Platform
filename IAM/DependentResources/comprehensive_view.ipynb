{
 "cells": [
  {
   "cell_type": "markdown",
   "metadata": {},
   "source": [
    "# Comprehensive View\n",
    "To get a comprehensive view of where a given account (e.g., function-runner-writer@abc.iam.serviceaccount.com) is used across your Google Cloud services and resources, there are several methods and tools that can help identify its dependencies. Here’s a step-by-step guide:\n",
    "\n",
    "## 1. Using Google Cloud Console IAM Policy Analysis (Cloud Asset Inventory)\n",
    "Google Cloud provides Cloud Asset Inventory and IAM Policy Analyzer, which can be used to trace the access and usage of a service account across various resources.\n",
    "\n",
    "* Go to Cloud Console:\n",
    "  * Navigate to **IAM & Admin** > **IAM Policy Analyzer**.\n",
    "  * In the **IAM Policy Analyzer**, you can search for a specific service account.\n",
    "* Analyze IAM Policies:\n",
    "* Enter the service account email (e.g., function-runner-writer@abc.iam.serviceaccount.com).\n",
    "* Choose the Scope (e.g., entire project, folder, or organization).\n",
    "* Run the analysis, which will display the resources that this service account has access to and the types of permissions it has on each resource.\n",
    "* You can view the roles assigned and understand its permissions across different services.\n",
    "\n",
    "2. Using Cloud Asset Inventory API with Python for Detailed Resource Scanning\n",
    "The **Cloud Asset Inventory API** allows you to programmatically search for IAM bindings for a specific service account across all resources in your project, folder, or organization. Here’s a Python script that uses the `cloudasset` API to check where a service account is referenced.\n",
    "\n",
    "* Set Up Cloud Asset Inventory:\n",
    "  * Enable the Cloud Asset Inventory API in your Google Cloud project.\n",
    "* Install Google Cloud SDK:\n",
    "* Install google-cloud-asset if not already installed:\n",
    "```bash\n",
    "pip install google-cloud-asset\n",
    "```\n",
    "3. Python Script to Search for Service Account Bindings:\n",
    "The following script searches for IAM policies across assets in a project, filtering specifically for resources where the service account is assigned roles.\n",
    "\n",
    "Refer below Code.\n",
    "\n",
    "Output: This script lists all resources in the project that grant roles to the specified service account."
   ]
  },
  {
   "cell_type": "code",
   "execution_count": 2,
   "metadata": {},
   "outputs": [
    {
     "name": "stdout",
     "output_type": "stream",
     "text": [
      "Resources where awsmayanktripathi@gmail.com has permissions:\n",
      "Resource: //bigquery.googleapis.com/projects/gcphde-prim-dev-data/datasets/MyDataflowJob_ds\n",
      "Role(s): []\n",
      "-----\n",
      "Resource: //dataform.googleapis.com/projects/gcphde-prim-dev-data/locations/us-central1/repositories/db5c66a1-a978-4ba4-be1a-fa8016c757df\n",
      "Role(s): []\n",
      "-----\n",
      "Resource: //bigquery.googleapis.com/projects/gcphde-prim-dev-data/datasets/Project_Logs\n",
      "Role(s): []\n",
      "-----\n",
      "Resource: //cloudresourcemanager.googleapis.com/projects/gcphde-prim-dev-data\n",
      "Role(s): []\n",
      "-----\n"
     ]
    }
   ],
   "source": [
    "from google.cloud import asset_v1\n",
    "\n",
    "def search_service_account_bindings(project_id, service_account_email):\n",
    "    client = asset_v1.AssetServiceClient()\n",
    "    scope = f\"projects/{project_id}\"\n",
    "    query = f\"policy: {service_account_email}\"\n",
    "\n",
    "    request = asset_v1.SearchAllIamPoliciesRequest(scope=scope, query=query)\n",
    "    response = client.search_all_iam_policies(request=request)\n",
    "\n",
    "    print(f\"Resources where {service_account_email} has permissions:\")\n",
    "    for policy in response:\n",
    "        print(f\"Resource: {policy.resource}\")\n",
    "        print(f\"Role(s): {[binding.role for binding in policy.policy.bindings if service_account_email in binding.members]}\")\n",
    "        print(\"-----\")\n",
    "\n",
    "# Usage\n",
    "project_id = \"gcphde-prim-dev-data\"\n",
    "service_account_email = \"awsmayanktripathi@gmail.com\"\n",
    "search_service_account_bindings(project_id, service_account_email)\n"
   ]
  },
  {
   "cell_type": "code",
   "execution_count": null,
   "metadata": {},
   "outputs": [],
   "source": []
  }
 ],
 "metadata": {
  "kernelspec": {
   "display_name": ".venv",
   "language": "python",
   "name": "python3"
  },
  "language_info": {
   "codemirror_mode": {
    "name": "ipython",
    "version": 3
   },
   "file_extension": ".py",
   "mimetype": "text/x-python",
   "name": "python",
   "nbconvert_exporter": "python",
   "pygments_lexer": "ipython3",
   "version": "3.12.5"
  }
 },
 "nbformat": 4,
 "nbformat_minor": 2
}
