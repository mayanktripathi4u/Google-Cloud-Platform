{
 "cells": [
  {
   "cell_type": "code",
   "execution_count": 1,
   "metadata": {},
   "outputs": [],
   "source": [
    "import os\n",
    "import pandas as pd"
   ]
  },
  {
   "cell_type": "code",
   "execution_count": 19,
   "metadata": {},
   "outputs": [],
   "source": [
    "local_path = '../data/sample_cloud_matrix_tracker.csv'\n",
    "\n",
    "colnames=['index','cloud_provider','vp_group','category','subscription','rec_rate', 'rec_avoidance', 'rec_trend','notes'] \n",
    "\n",
    "# df = pd.read_csv(local_path, names=colnames)\n",
    "df = pd.read_csv(local_path, names=colnames, header=0)"
   ]
  },
  {
   "cell_type": "code",
   "execution_count": 20,
   "metadata": {},
   "outputs": [
    {
     "data": {
      "text/html": [
       "<div>\n",
       "<style scoped>\n",
       "    .dataframe tbody tr th:only-of-type {\n",
       "        vertical-align: middle;\n",
       "    }\n",
       "\n",
       "    .dataframe tbody tr th {\n",
       "        vertical-align: top;\n",
       "    }\n",
       "\n",
       "    .dataframe thead th {\n",
       "        text-align: right;\n",
       "    }\n",
       "</style>\n",
       "<table border=\"1\" class=\"dataframe\">\n",
       "  <thead>\n",
       "    <tr style=\"text-align: right;\">\n",
       "      <th></th>\n",
       "      <th>index</th>\n",
       "      <th>cloud_provider</th>\n",
       "      <th>vp_group</th>\n",
       "      <th>category</th>\n",
       "      <th>subscription</th>\n",
       "      <th>rec_rate</th>\n",
       "      <th>rec_avoidance</th>\n",
       "      <th>rec_trend</th>\n",
       "      <th>notes</th>\n",
       "    </tr>\n",
       "  </thead>\n",
       "  <tbody>\n",
       "    <tr>\n",
       "      <th>0</th>\n",
       "      <td>1</td>\n",
       "      <td>AWS</td>\n",
       "      <td>Group1</td>\n",
       "      <td>CategoryA</td>\n",
       "      <td>Subscription1</td>\n",
       "      <td>0.5</td>\n",
       "      <td>0.3</td>\n",
       "      <td>0.2</td>\n",
       "      <td>Initial metrics for AWS</td>\n",
       "    </tr>\n",
       "    <tr>\n",
       "      <th>1</th>\n",
       "      <td>2</td>\n",
       "      <td>Azure</td>\n",
       "      <td>Group2</td>\n",
       "      <td>CategoryB</td>\n",
       "      <td>Subscription2</td>\n",
       "      <td>0.7</td>\n",
       "      <td>0.1</td>\n",
       "      <td>0.4</td>\n",
       "      <td>Quarterly review</td>\n",
       "    </tr>\n",
       "    <tr>\n",
       "      <th>2</th>\n",
       "      <td>3</td>\n",
       "      <td>GCP</td>\n",
       "      <td>Group1</td>\n",
       "      <td>CategoryC</td>\n",
       "      <td>Subscription3</td>\n",
       "      <td>0.9</td>\n",
       "      <td>0.5</td>\n",
       "      <td>0.3</td>\n",
       "      <td>Yearly analysis</td>\n",
       "    </tr>\n",
       "    <tr>\n",
       "      <th>3</th>\n",
       "      <td>4</td>\n",
       "      <td>AWS</td>\n",
       "      <td>Group3</td>\n",
       "      <td>CategoryA</td>\n",
       "      <td>Subscription4</td>\n",
       "      <td>0.2</td>\n",
       "      <td>0.6</td>\n",
       "      <td>0.1</td>\n",
       "      <td>New subscription</td>\n",
       "    </tr>\n",
       "    <tr>\n",
       "      <th>4</th>\n",
       "      <td>5</td>\n",
       "      <td>Azure</td>\n",
       "      <td>Group1</td>\n",
       "      <td>CategoryB</td>\n",
       "      <td>Subscription5</td>\n",
       "      <td>0.8</td>\n",
       "      <td>0.3</td>\n",
       "      <td>0.5</td>\n",
       "      <td>Updated metrics</td>\n",
       "    </tr>\n",
       "  </tbody>\n",
       "</table>\n",
       "</div>"
      ],
      "text/plain": [
       "   index cloud_provider vp_group   category   subscription  rec_rate  \\\n",
       "0      1            AWS   Group1  CategoryA  Subscription1       0.5   \n",
       "1      2          Azure   Group2  CategoryB  Subscription2       0.7   \n",
       "2      3            GCP   Group1  CategoryC  Subscription3       0.9   \n",
       "3      4            AWS   Group3  CategoryA  Subscription4       0.2   \n",
       "4      5          Azure   Group1  CategoryB  Subscription5       0.8   \n",
       "\n",
       "   rec_avoidance  rec_trend                    notes  \n",
       "0            0.3        0.2  Initial metrics for AWS  \n",
       "1            0.1        0.4         Quarterly review  \n",
       "2            0.5        0.3          Yearly analysis  \n",
       "3            0.6        0.1         New subscription  \n",
       "4            0.3        0.5          Updated metrics  "
      ]
     },
     "execution_count": 20,
     "metadata": {},
     "output_type": "execute_result"
    }
   ],
   "source": [
    "df.head()"
   ]
  },
  {
   "cell_type": "code",
   "execution_count": null,
   "metadata": {},
   "outputs": [],
   "source": []
  }
 ],
 "metadata": {
  "kernelspec": {
   "display_name": "Python 3",
   "language": "python",
   "name": "python3"
  },
  "language_info": {
   "codemirror_mode": {
    "name": "ipython",
    "version": 3
   },
   "file_extension": ".py",
   "mimetype": "text/x-python",
   "name": "python",
   "nbconvert_exporter": "python",
   "pygments_lexer": "ipython3",
   "version": "3.9.6"
  }
 },
 "nbformat": 4,
 "nbformat_minor": 2
}
