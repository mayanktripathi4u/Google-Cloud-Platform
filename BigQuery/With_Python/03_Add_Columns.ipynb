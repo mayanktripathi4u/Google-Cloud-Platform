{
 "cells": [
  {
   "cell_type": "code",
   "execution_count": 9,
   "metadata": {},
   "outputs": [],
   "source": [
    "import os\n",
    "from google.cloud import bigquery\n",
    "import time\n",
    "\n",
    "os.environ['GOOGLE_APPLICATION_CREDENTIALS'] = 'proud-climber-421817-14ec0fc568ac.json'\n",
    "client = bigquery.Client()"
   ]
  },
  {
   "cell_type": "code",
   "execution_count": 2,
   "metadata": {},
   "outputs": [],
   "source": [
    "# Construct table entity reference\n",
    "dataset_ref = bigquery.DatasetReference(client.project, 'streamingDataSet')\n",
    "table_ref = bigquery.TableReference(dataset_ref=dataset_ref, table_id='tbl_streamingData')\n",
    "bqTable = client.get_table(table_ref)"
   ]
  },
  {
   "cell_type": "code",
   "execution_count": 3,
   "metadata": {},
   "outputs": [
    {
     "name": "stdout",
     "output_type": "stream",
     "text": [
      "[SchemaField('data', 'STRING', 'NULLABLE', None, None, (), None)]\n"
     ]
    }
   ],
   "source": [
    "# Get a snapshot of table schema\n",
    "schemaOriginal = bqTable.schema\n",
    "\n",
    "print(schemaOriginal)"
   ]
  },
  {
   "cell_type": "code",
   "execution_count": 4,
   "metadata": {},
   "outputs": [
    {
     "name": "stdout",
     "output_type": "stream",
     "text": [
      "[SchemaField('data', 'STRING', 'NULLABLE', None, None, (), None), SchemaField('newCol1', 'BOOLEAN', 'NULLABLE', None, None, (), None), SchemaField('newCol2', 'STRING', 'NULLABLE', None, None, (), None)]\n"
     ]
    }
   ],
   "source": [
    "# Add New Columns\n",
    "schemaNew = schemaOriginal[:] # Create a copy of original schema\n",
    "\n",
    "schemaNew.append(bigquery.SchemaField(\"newCol1\", \"BOOLEAN\", mode=\"NULLABLE\"))\n",
    "schemaNew.append(bigquery.SchemaField(\"newCol2\", \"STRING\", mode=\"NULLABLE\"))\n",
    "\n",
    "print(schemaNew)"
   ]
  },
  {
   "cell_type": "code",
   "execution_count": 5,
   "metadata": {},
   "outputs": [
    {
     "data": {
      "text/plain": [
       "Table(TableReference(DatasetReference('proud-climber-421817', 'streamingDataSet'), 'tbl_streamingData'))"
      ]
     },
     "execution_count": 5,
     "metadata": {},
     "output_type": "execute_result"
    }
   ],
   "source": [
    "# Assign the updated schema to the BQ Table\n",
    "bqTable.schema = schemaNew\n",
    "\n",
    "# Make an API rquest to add Column\n",
    "client.update_table(bqTable, ['schema'])"
   ]
  },
  {
   "cell_type": "code",
   "execution_count": 7,
   "metadata": {},
   "outputs": [],
   "source": [
    "# Delete Columns\n",
    "query_job = client.query(\n",
    "    \"\"\"\n",
    "    ALTER TABLE streamingDataSet.tbl_streamingData\n",
    "    DROP COLUMN IF EXISTS newCol1,\n",
    "    DROP COLUMN IF EXISTS newCol2\n",
    "    \"\"\"\n",
    ")"
   ]
  },
  {
   "cell_type": "code",
   "execution_count": 10,
   "metadata": {},
   "outputs": [
    {
     "name": "stdout",
     "output_type": "stream",
     "text": [
      "Waiting for the job to finish....\n",
      "<google.cloud.bigquery.table._EmptyRowIterator object at 0x122341ac0>\n"
     ]
    }
   ],
   "source": [
    "while query_job.state != 'DONE':\n",
    "    print(\"Waiting for the job to finish....\")\n",
    "    time.sleep(3)\n",
    "    query_job.reload()\n",
    "\n",
    "print(query_job.result())"
   ]
  },
  {
   "cell_type": "code",
   "execution_count": null,
   "metadata": {},
   "outputs": [],
   "source": []
  }
 ],
 "metadata": {
  "kernelspec": {
   "display_name": ".pyspark-env",
   "language": "python",
   "name": "python3"
  },
  "language_info": {
   "codemirror_mode": {
    "name": "ipython",
    "version": 3
   },
   "file_extension": ".py",
   "mimetype": "text/x-python",
   "name": "python",
   "nbconvert_exporter": "python",
   "pygments_lexer": "ipython3",
   "version": "3.9.6"
  }
 },
 "nbformat": 4,
 "nbformat_minor": 2
}
