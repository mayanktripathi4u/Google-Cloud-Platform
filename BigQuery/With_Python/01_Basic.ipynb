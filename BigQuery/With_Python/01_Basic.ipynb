{
 "cells": [
  {
   "cell_type": "code",
   "execution_count": 1,
   "metadata": {},
   "outputs": [
    {
     "name": "stderr",
     "output_type": "stream",
     "text": [
      "/Users/tripathimachine/Desktop/Apps/PySpark-Tutorial/.pyspark-env/lib/python3.9/site-packages/urllib3/__init__.py:34: NotOpenSSLWarning: urllib3 v2 only supports OpenSSL 1.1.1+, currently the 'ssl' module is compiled with 'LibreSSL 2.8.3'. See: https://github.com/urllib3/urllib3/issues/3020\n",
      "  warnings.warn(\n"
     ]
    }
   ],
   "source": [
    "import os\n",
    "from google.cloud import bigquery"
   ]
  },
  {
   "cell_type": "code",
   "execution_count": 2,
   "metadata": {},
   "outputs": [],
   "source": [
    "os.environ['GOOGLE_APPLICATION_CREDENTIALS'] = 'proud-climber-421817-14ec0fc568ac.json'"
   ]
  },
  {
   "cell_type": "code",
   "execution_count": 3,
   "metadata": {},
   "outputs": [],
   "source": [
    "client = bigquery.Client()"
   ]
  },
  {
   "cell_type": "code",
   "execution_count": 6,
   "metadata": {},
   "outputs": [],
   "source": [
    "sql_query = \"\"\"\n",
    "SELECT * FROM `proud-climber-421817.streamingDataSet.tbl_streamingData`\n",
    "LIMIT 10\n",
    "\"\"\""
   ]
  },
  {
   "cell_type": "code",
   "execution_count": 8,
   "metadata": {},
   "outputs": [
    {
     "name": "stdout",
     "output_type": "stream",
     "text": [
      "QueryJob<project=proud-climber-421817, location=US, id=7b8679bb-d80e-490c-8760-6eeabb85bbe6>\n"
     ]
    }
   ],
   "source": [
    "query_job = client.query(sql_query)\n",
    "\n",
    "print(query_job)"
   ]
  },
  {
   "cell_type": "code",
   "execution_count": 9,
   "metadata": {},
   "outputs": [
    {
     "name": "stdout",
     "output_type": "stream",
     "text": [
      "<google.cloud.bigquery.table.RowIterator object at 0x10cbbbbb0>\n"
     ]
    }
   ],
   "source": [
    "print(query_job.result())"
   ]
  },
  {
   "cell_type": "code",
   "execution_count": 10,
   "metadata": {},
   "outputs": [
    {
     "name": "stdout",
     "output_type": "stream",
     "text": [
      "Row(('Mayank is a Kind person',), {'data': 0})\n",
      "Row(('Dousik wake up, and is a Kind person',), {'data': 0})\n",
      "Row(('Today is Sunday and we are doing Rest, Topic:projects/proud-climber-421817/topics/streamingPubSubTopic',), {'data': 0})\n",
      "Row(('Mayank is a Kind person',), {'data': 0})\n",
      "Row(('Dousik wake up, and is a Kind person',), {'data': 0})\n",
      "Row(('Dousik wake up, and is a Kind person',), {'data': 0})\n",
      "Row(('Today is Sunday and we are doing Rest, Topic:projects/proud-climber-421817/topics/streamingPubSubTopic',), {'data': 0})\n",
      "Row(('Today is Sunday and we are doing Rest, Topic:projects/proud-climber-421817/topics/streamingPubSubTopic',), {'data': 0})\n",
      "Row(('Hello Welcome ',), {'data': 0})\n",
      "Row(('Hello Welcome ',), {'data': 0})\n"
     ]
    }
   ],
   "source": [
    "for row in query_job.result():\n",
    "    print(row)"
   ]
  },
  {
   "cell_type": "code",
   "execution_count": 13,
   "metadata": {},
   "outputs": [
    {
     "name": "stdout",
     "output_type": "stream",
     "text": [
      "Mayank is a Kind person\n"
     ]
    }
   ],
   "source": [
    "for row in query_job.result():\n",
    "    print(row[0])\n",
    "    break"
   ]
  },
  {
   "cell_type": "code",
   "execution_count": null,
   "metadata": {},
   "outputs": [],
   "source": []
  },
  {
   "cell_type": "code",
   "execution_count": null,
   "metadata": {},
   "outputs": [],
   "source": []
  }
 ],
 "metadata": {
  "kernelspec": {
   "display_name": "Python 3",
   "language": "python",
   "name": "python3"
  },
  "language_info": {
   "codemirror_mode": {
    "name": "ipython",
    "version": 3
   },
   "file_extension": ".py",
   "mimetype": "text/x-python",
   "name": "python",
   "nbconvert_exporter": "python",
   "pygments_lexer": "ipython3",
   "version": "3.9.6"
  }
 },
 "nbformat": 4,
 "nbformat_minor": 2
}
