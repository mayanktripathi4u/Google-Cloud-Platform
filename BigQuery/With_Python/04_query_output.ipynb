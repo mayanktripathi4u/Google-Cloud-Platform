{
 "cells": [
  {
   "cell_type": "code",
   "execution_count": 2,
   "metadata": {},
   "outputs": [],
   "source": [
    "import os\n",
    "from google.cloud import bigquery\n",
    "import time\n",
    "\n",
    "os.environ['GOOGLE_APPLICATION_CREDENTIALS'] = 'proud-climber-421817-14ec0fc568ac.json'\n",
    "client = bigquery.Client()"
   ]
  },
  {
   "cell_type": "code",
   "execution_count": 3,
   "metadata": {},
   "outputs": [],
   "source": [
    "sql_query = \"\"\"\n",
    "    SELECT *\n",
    "    FROM streamingDataSet.tbl_streamingData\n",
    "    LIMIT 10\n",
    "\"\"\""
   ]
  },
  {
   "cell_type": "code",
   "execution_count": 4,
   "metadata": {},
   "outputs": [],
   "source": [
    "# Prepare the variables \n",
    "project_id = \"proud-climber-421817\"\n",
    "destination_dataset_id = \"streamingDataSet\"\n",
    "destination_table_id = \"tbl_streamingData\""
   ]
  },
  {
   "cell_type": "code",
   "execution_count": 5,
   "metadata": {},
   "outputs": [],
   "source": [
    "# Step 1: Construct destination table reference\n",
    "dataset_ref = client.dataset(destination_dataset_id, project_id)\n",
    "dataset = client.get_dataset(dataset_ref)\n",
    "\n",
    "table_ref = dataset_ref.table(destination_table_id)"
   ]
  },
  {
   "cell_type": "code",
   "execution_count": 6,
   "metadata": {},
   "outputs": [],
   "source": [
    "# Step 2: Query Job COnfiguration\n",
    "query_job_config = bigquery.QueryJobConfig()\n",
    "query_job_config.destination = table_ref"
   ]
  },
  {
   "cell_type": "code",
   "execution_count": 7,
   "metadata": {},
   "outputs": [],
   "source": [
    "# STep 3: Run the SQL Query\n",
    "query_job = client.query(sql_query, location=dataset.location, job_config=query_job_config)"
   ]
  },
  {
   "cell_type": "code",
   "execution_count": 8,
   "metadata": {},
   "outputs": [
    {
     "name": "stdout",
     "output_type": "stream",
     "text": [
      "Query result is saved to streamingDataSet.tbl_streamingData\n"
     ]
    }
   ],
   "source": [
    "# STep 4: waiting for the job to complete\n",
    "while query_job.state != \"DONE\":\n",
    "    time.sleep(3)\n",
    "    query_job.reload()\n",
    "\n",
    "print(f\"Query result is saved to {table_ref.dataset_id}.{table_ref.table_id}\")"
   ]
  },
  {
   "cell_type": "code",
   "execution_count": null,
   "metadata": {},
   "outputs": [],
   "source": []
  }
 ],
 "metadata": {
  "kernelspec": {
   "display_name": ".pyspark-env",
   "language": "python",
   "name": "python3"
  },
  "language_info": {
   "codemirror_mode": {
    "name": "ipython",
    "version": 3
   },
   "file_extension": ".py",
   "mimetype": "text/x-python",
   "name": "python",
   "nbconvert_exporter": "python",
   "pygments_lexer": "ipython3",
   "version": "3.9.6"
  }
 },
 "nbformat": 4,
 "nbformat_minor": 2
}
